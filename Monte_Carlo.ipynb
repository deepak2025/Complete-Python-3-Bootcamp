{
  "nbformat": 4,
  "nbformat_minor": 0,
  "metadata": {
    "colab": {
      "name": "Monte Carlo HW-8",
      "version": "0.3.2",
      "provenance": [],
      "include_colab_link": true
    },
    "kernelspec": {
      "name": "python3",
      "display_name": "Python 3"
    }
  },
  "cells": [
    {
      "cell_type": "markdown",
      "metadata": {
        "id": "view-in-github",
        "colab_type": "text"
      },
      "source": [
        "<a href=\"https://colab.research.google.com/github/deepak2025/Complete-Python-3-Bootcamp/blob/master/Monte_Carlo.ipynb\" target=\"_parent\"><img src=\"https://colab.research.google.com/assets/colab-badge.svg\" alt=\"Open In Colab\"/></a>"
      ]
    },
    {
      "metadata": {
        "id": "zpnKoI-xlvKH",
        "colab_type": "code",
        "colab": {}
      },
      "cell_type": "code",
      "source": [
        "#1.A\n",
        "def add_rand():\n",
        "  import numpy as np\n",
        "  X=np.array([95,101,159,119,98,153,154,115,95,140,125,139,97,144,128,91,146,148,149,158])\n",
        "  X.mean()\n",
        "  Sample_Var=sum((X-X.mean())**2)/19\n",
        "  return ((2.5758/0.5)**2)*(Sample_Var)\n",
        "  \n"
      ],
      "execution_count": 0,
      "outputs": []
    },
    {
      "metadata": {
        "id": "AKqxZfEFn-zN",
        "colab_type": "code",
        "colab": {
          "base_uri": "https://localhost:8080/",
          "height": 34
        },
        "outputId": "352cfca8-5dbd-49a6-aff2-0139747a472c"
      },
      "cell_type": "code",
      "source": [
        "add_rand()"
      ],
      "execution_count": 19,
      "outputs": [
        {
          "output_type": "execute_result",
          "data": {
            "text/plain": [
              "15702.976301896419"
            ]
          },
          "metadata": {
            "tags": []
          },
          "execution_count": 19
        }
      ]
    },
    {
      "metadata": {
        "id": "eTUHyH4jmBXy",
        "colab_type": "code",
        "colab": {}
      },
      "cell_type": "code",
      "source": [
        "#1.B\n",
        "def rel_error():\n",
        "  gam=0.005\n",
        "  gam_hat=gam/(1+gam)\n",
        "  X=np.array([95,101,159,119,98,153,154,115,95,140,125,139,97,144,128,91,146,148,149,158])\n",
        "  X.mean()\n",
        "  Sample_Var=sum((X-X.mean())**2)/19\n",
        "  return ((2.5758/(X.mean()*gam_hat))**2)*(Sample_Var)"
      ],
      "execution_count": 0,
      "outputs": []
    },
    {
      "metadata": {
        "id": "_1Nv85gMoWfB",
        "colab_type": "code",
        "colab": {
          "base_uri": "https://localhost:8080/",
          "height": 34
        },
        "outputId": "6541009c-3071-4603-8cce-0107977ff00c"
      },
      "cell_type": "code",
      "source": [
        "rel_error()"
      ],
      "execution_count": 21,
      "outputs": [
        {
          "output_type": "execute_result",
          "data": {
            "text/plain": [
              "9725.956084256137"
            ]
          },
          "metadata": {
            "tags": []
          },
          "execution_count": 21
        }
      ]
    },
    {
      "metadata": {
        "id": "frzVxLmomKGH",
        "colab_type": "code",
        "colab": {}
      },
      "cell_type": "code",
      "source": [
        "#2.a\n",
        "def normalgen():\n",
        "    N=100\n",
        "    ran_var=np.array(np.random.normal(size=100))\n",
        "    Sample_Var=sum((ran_var-ran_var.mean())**2)/(N-1)\n",
        "    S=np.sqrt(Sample_Var/N)\n",
        "    while(S>0.01):\n",
        "        N=N+1\n",
        "        ran_var=np.append(ran_var,[np.random.normal()])\n",
        "        Sample_Var=sum((ran_var-ran_var.mean())**2)/(N-1)\n",
        "        S=np.sqrt(Sample_Var/N)\n",
        "    print(N)"
      ],
      "execution_count": 0,
      "outputs": []
    },
    {
      "metadata": {
        "id": "6jUSVRyfmNfw",
        "colab_type": "code",
        "colab": {
          "base_uri": "https://localhost:8080/",
          "height": 34
        },
        "outputId": "8148ec24-7696-40da-cd65-179fcb1085e9"
      },
      "cell_type": "code",
      "source": [
        "normalgen()"
      ],
      "execution_count": 24,
      "outputs": [
        {
          "output_type": "stream",
          "text": [
            "10175\n"
          ],
          "name": "stdout"
        }
      ]
    },
    {
      "metadata": {
        "id": "d-kwcCj9mPbt",
        "colab_type": "code",
        "colab": {}
      },
      "cell_type": "code",
      "source": [
        "#2.b\n",
        "def SSP1():\n",
        "    N=100\n",
        "    X=np.array(np.random.normal(size=100))\n",
        "    X_bar=X.mean()\n",
        "    Sample_Var=sum((X-X_bar)**2)/(N-1)\n",
        "    An=1/N\n",
        "    S=np.sqrt(Sample_Var/N)\n",
        "    while((S+An)>=0.01):\n",
        "        X_bar_prev=X_bar\n",
        "        X_bar=X_bar_prev+(np.random.normal()-X_bar_prev)/(N+1)\n",
        "        Sample_Var=(1-1/N)*Sample_Var+(N+1)*(X_bar-X_bar_prev)**2\n",
        "        N=N+1\n",
        "        S=np.sqrt(Sample_Var/N)\n",
        "        An=1/N\n",
        "        \n",
        "    print(N)"
      ],
      "execution_count": 0,
      "outputs": []
    },
    {
      "metadata": {
        "id": "ObrxITVhmXMo",
        "colab_type": "code",
        "colab": {
          "base_uri": "https://localhost:8080/",
          "height": 34
        },
        "outputId": "502eefca-5388-4970-f63a-d2216aecc90e"
      },
      "cell_type": "code",
      "source": [
        "SSP1()"
      ],
      "execution_count": 26,
      "outputs": [
        {
          "output_type": "stream",
          "text": [
            "10251\n"
          ],
          "name": "stdout"
        }
      ]
    },
    {
      "metadata": {
        "id": "S3bouM7Emgcz",
        "colab_type": "code",
        "colab": {}
      },
      "cell_type": "code",
      "source": [
        "#2.c\n",
        "def SSP2():\n",
        "    N=100\n",
        "    X=np.array(np.random.normal(size=100))\n",
        "    X_bar=X.mean()\n",
        "    Sample_Var=sum((X-X_bar)**2)/(N-1)\n",
        "    An=1/N**2\n",
        "    S=np.sqrt(Sample_Var/N)\n",
        "    while(S+An>=0.01):\n",
        "        X_bar_prev=X_bar\n",
        "        X_bar=X_bar_prev+(np.random.normal()-X_bar_prev)/(N+1)\n",
        "        Sample_Var=(1-1/N)*Sample_Var+(N+1)*(X_bar-X_bar_prev)**2\n",
        "        N=N+1\n",
        "        S=np.sqrt(Sample_Var/N)\n",
        "        An=1/N**2\n",
        "    print(N)"
      ],
      "execution_count": 0,
      "outputs": []
    },
    {
      "metadata": {
        "id": "c3yICnqzmoi6",
        "colab_type": "code",
        "colab": {
          "base_uri": "https://localhost:8080/",
          "height": 34
        },
        "outputId": "bc29d220-980a-461c-eedd-d255aca516b5"
      },
      "cell_type": "code",
      "source": [
        "SSP2()"
      ],
      "execution_count": 28,
      "outputs": [
        {
          "output_type": "stream",
          "text": [
            "9920\n"
          ],
          "name": "stdout"
        }
      ]
    },
    {
      "metadata": {
        "id": "uYpLnHlqmr7R",
        "colab_type": "code",
        "colab": {
          "base_uri": "https://localhost:8080/",
          "height": 34
        },
        "outputId": "d5cdad32-6ce6-4df0-90bc-970e9b335923"
      },
      "cell_type": "code",
      "source": [
        "#4.c.\n",
        "def Msamplegen():\n",
        "    Sum=[0]\n",
        "    while(True):\n",
        "        x=np.random.uniform()\n",
        "        if(x>Sum[-1]):\n",
        "            Sum.append(x);\n",
        "        else:\n",
        "            break;\n",
        "            \n",
        "    return(len(Sum)) \n",
        "\n",
        "Sum=[]\n",
        "for i in range(0,10000):\n",
        "    Sum.append(Msamplegen())\n",
        "\n",
        "X=np.array(Sum)\n",
        "X.mean()\n",
        "Sample_Var=sum((X-X.mean())**2)/9999\n",
        "((2.24/0.001)**2)*(Sample_Var)"
      ],
      "execution_count": 22,
      "outputs": [
        {
          "output_type": "execute_result",
          "data": {
            "text/plain": [
              "3933203.4538491666"
            ]
          },
          "metadata": {
            "tags": []
          },
          "execution_count": 22
        }
      ]
    }
  ]
}